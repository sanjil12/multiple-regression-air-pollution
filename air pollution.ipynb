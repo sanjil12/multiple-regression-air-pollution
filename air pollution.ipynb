{
 "cells": [
  {
   "cell_type": "code",
   "execution_count": 11,
   "metadata": {},
   "outputs": [],
   "source": [
    "import numpy as np\n",
    "import pandas as pd\n",
    "import matplotlib.pyplot as plt"
   ]
  },
  {
   "cell_type": "code",
   "execution_count": 12,
   "metadata": {},
   "outputs": [
    {
     "name": "stdout",
     "output_type": "stream",
     "text": [
      "(1600, 5)\n",
      "(1600, 1)\n"
     ]
    }
   ],
   "source": [
    "dfx=pd.read_csv(r'C:\\Users\\sanjil\\Desktop\\New folder\\Train\\Train.csv')\n",
    "dfy=pd.read_csv(r'C:\\Users\\sanjil\\Desktop\\ytrain.csv')\n",
    "x=np.array(dfx)\n",
    "y=np.array(dfy)\n",
    "print(x.shape)\n",
    "print(y.shape)"
   ]
  },
  {
   "cell_type": "code",
   "execution_count": 13,
   "metadata": {},
   "outputs": [
    {
     "name": "stdout",
     "output_type": "stream",
     "text": [
      "(1600, 6)\n"
     ]
    }
   ],
   "source": [
    "ones=np.ones((x.shape[0],1))\n",
    "x=np.concatenate((ones,x),axis=1)\n",
    "print(x.shape)"
   ]
  },
  {
   "cell_type": "code",
   "execution_count": null,
   "metadata": {},
   "outputs": [],
   "source": []
  },
  {
   "cell_type": "code",
   "execution_count": 25,
   "metadata": {},
   "outputs": [],
   "source": [
    "def hypothesis(X,theta,n):\n",
    "    m=X.shape[0]\n",
    "    h=0\n",
    "    for i in range(m):\n",
    "        h+=X[i]*theta[i]\n",
    "    \n",
    "    return h\n",
    "#error\n",
    "def error(X,Y,theta,n):\n",
    "    m=X.shape[0]\n",
    "    err=0\n",
    "    for i in range(m):\n",
    "        h=hypothesis(X[i],theta,n)\n",
    "        err+= (y[i]-h)**2\n",
    "        \n",
    "    return 0.5*err\n",
    "#gradient\n",
    "def gradient(X,Y,theta,n):\n",
    "    m=X.shape[0]\n",
    "    grad=np.zeros((n+1,1))\n",
    "    for i in range(0,(n+1),1):\n",
    "        for j in range(m):\n",
    "            h=hypothesis(X[j],theta,n)\n",
    "            grad[i]+=np.sum((h-y[j])*X[j][i])\n",
    "    return grad\n",
    "#gradient descent\n",
    "def gradientdescent(X,Y,n,lr=0.0001):\n",
    "    theta=np.ones((n+1,1))\n",
    "    itr=0\n",
    "    err_list=[]\n",
    "    max_itr=100\n",
    "    while itr<max_itr:\n",
    "        e=error(X,Y,theta,n)\n",
    "        grad=gradient(X,Y,theta,n)\n",
    "        \n",
    "        err_list.append(e)\n",
    "        for i in range((n+1)):\n",
    "            theta=theta-lr*grad\n",
    "        itr+=1\n",
    "    return theta,err_list\n",
    "        \n",
    "    \n"
   ]
  },
  {
   "cell_type": "code",
   "execution_count": 26,
   "metadata": {},
   "outputs": [],
   "source": [
    "final_theta,err_list=gradientdescent(x,y,5)"
   ]
  },
  {
   "cell_type": "code",
   "execution_count": 27,
   "metadata": {},
   "outputs": [
    {
     "name": "stdout",
     "output_type": "stream",
     "text": [
      "[[ 4.99096674]\n",
      " [29.68187118]\n",
      " [92.66247759]\n",
      " [ 8.28062089]\n",
      " [44.76773522]\n",
      " [ 2.51916121]]\n"
     ]
    }
   ],
   "source": [
    "print(final_theta)"
   ]
  },
  {
   "cell_type": "code",
   "execution_count": 28,
   "metadata": {},
   "outputs": [
    {
     "data": {
      "image/png": "[encoded data removed]",
      "text/plain": [
       "<Figure size 432x288 with 1 Axes>"
      ]
     },
     "metadata": {
      "needs_background": "light"
     },
     "output_type": "display_data"
    }
   ],
   "source": [
    "plt.plot(err_list)\n",
    "plt.show()"
   ]
  },
  {
   "cell_type": "code",
   "execution_count": 32,
   "metadata": {},
   "outputs": [
    {
     "name": "stdout",
     "output_type": "stream",
     "text": [
      "(400, 5)\n",
      "(400, 6)\n"
     ]
    }
   ],
   "source": [
    "xt=pd.read_csv(r'C:\\Users\\sanjil\\Desktop\\New folder\\Test.csv')\n",
    "xtest=np.array(xt)\n",
    "print(xtest.shape)\n",
    "ones=np.ones((xtest.shape[0],1),dtype='int32')\n",
    "xtest=np.concatenate((ones,xtest),axis=1)\n",
    "print(xtest.shape)"
   ]
  },
  {
   "cell_type": "code",
   "execution_count": 33,
   "metadata": {},
   "outputs": [],
   "source": [
    "m = xtest.shape[0]\n",
    "ypred=[]\n",
    "for i in range(m):\n",
    "    h=hypothesis(xtest[i],final_theta,4)\n",
    "    ypred.append(h)\n",
    "yfinal=np.array(ypred).reshape((400,1))\n",
    "\n",
    "yfinal=pd.DataFrame(yfinal,columns=['Y']).to_csv(\"solution10.csv\")"
   ]
  },
  {
   "cell_type": "code",
   "execution_count": null,
   "metadata": {},
   "outputs": [],
   "source": []
  }
 ],
 "metadata": {
  "kernelspec": {
   "display_name": "Python 3",
   "language": "python",
   "name": "python3"
  },
  "language_info": {
   "codemirror_mode": {
    "name": "ipython",
    "version": 3
   },
   "file_extension": ".py",
   "mimetype": "text/x-python",
   "name": "python",
   "nbconvert_exporter": "python",
   "pygments_lexer": "ipython3",
   "version": "3.7.3"
  }
 },
 "nbformat": 4,
 "nbformat_minor": 2
}
